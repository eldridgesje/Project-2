{
 "cells": [
  {
   "cell_type": "code",
   "execution_count": null,
   "id": "02fa3a90",
   "metadata": {},
   "outputs": [],
   "source": [
    "import pandas as pd\n",
    "import datetime"
   ]
  },
  {
   "cell_type": "code",
   "execution_count": null,
   "id": "47a225e9",
   "metadata": {},
   "outputs": [],
   "source": [
    "file_to_load = \"Resources/food-inspections.csv\"\n",
    "food_data = pd.read_csv(file_to_load)\n",
    "food_data.head()"
   ]
  },
  {
   "cell_type": "code",
   "execution_count": null,
   "id": "8b811bad",
   "metadata": {},
   "outputs": [],
   "source": [
    "food_data.shape"
   ]
  },
  {
   "cell_type": "code",
   "execution_count": null,
   "id": "ce9afcb3",
   "metadata": {},
   "outputs": [],
   "source": [
    "food_data.columns"
   ]
  },
  {
   "cell_type": "code",
   "execution_count": null,
   "id": "0ac9ebb0",
   "metadata": {},
   "outputs": [],
   "source": [
    "food_data.isnull().sum()"
   ]
  },
  {
   "cell_type": "code",
   "execution_count": null,
   "id": "6e3f081e",
   "metadata": {},
   "outputs": [],
   "source": [
    "# Deleting empty,unrelated columns on the data we re gonna work\n",
    "food_data = food_data.drop(columns = [\"AKA Name\", \"License #\", \n",
    "                                      \"Historical Wards 2003-2015\", \"Zip Codes\", \n",
    "                                      \"Community Areas\", \"Census Tracts\", \"Wards\"])"
   ]
  },
  {
   "cell_type": "code",
   "execution_count": null,
   "id": "c9a14aab",
   "metadata": {},
   "outputs": [],
   "source": [
    "food_data[\"Inspection Date\"][0]"
   ]
  },
  {
   "cell_type": "code",
   "execution_count": null,
   "id": "daf4a6c2",
   "metadata": {},
   "outputs": [],
   "source": [
    "food_data[\"Inspection Date\"] = pd.to_datetime(food_data[\"Inspection Date\"])"
   ]
  },
  {
   "cell_type": "code",
   "execution_count": null,
   "id": "49a61eb4",
   "metadata": {},
   "outputs": [],
   "source": [
    "last_date = food_data[\"Inspection Date\"][0]\n",
    "last_date"
   ]
  },
  {
   "cell_type": "code",
   "execution_count": null,
   "id": "70419dba",
   "metadata": {
    "scrolled": true
   },
   "outputs": [],
   "source": [
    "recent_ins = food_data.sort_values(by = \"Inspection Date\", ascending = False)\n",
    "recent_ins.head()"
   ]
  },
  {
   "cell_type": "code",
   "execution_count": null,
   "id": "16150038",
   "metadata": {},
   "outputs": [],
   "source": [
    "# end_date= pd.date_range(\"2019-01-04\", periods=12, freq=\"M\")\n",
    "# end_date"
   ]
  },
  {
   "cell_type": "code",
   "execution_count": null,
   "id": "9b31c4f2",
   "metadata": {},
   "outputs": [],
   "source": [
    "end_date = datetime.date(2019, 12, 4)\n",
    "days = datetime.timedelta(days = 365, hours = 6)\n",
    "\n",
    "start_date = end_date - days\n",
    "start_date"
   ]
  },
  {
   "cell_type": "code",
   "execution_count": null,
   "id": "bdf79981",
   "metadata": {},
   "outputs": [],
   "source": [
    "start_date = \"2018-12-04\"\n",
    "end_date = \"2019-12-04\"\n",
    "food_df = food_data.loc[(food_data[\"Inspection Date\"] >= start_date) & (food_data[\"Inspection Date\"] <= end_date)]\n",
    "food_df.head()"
   ]
  },
  {
   "cell_type": "code",
   "execution_count": null,
   "id": "8a419deb",
   "metadata": {},
   "outputs": [],
   "source": [
    "food_df.shape"
   ]
  },
  {
   "cell_type": "code",
   "execution_count": null,
   "id": "ff4f338d",
   "metadata": {},
   "outputs": [],
   "source": [
    "food_df.isnull().sum()"
   ]
  },
  {
   "cell_type": "code",
   "execution_count": null,
   "id": "3c5e1e8e",
   "metadata": {},
   "outputs": [],
   "source": [
    "food_df.dtypes"
   ]
  },
  {
   "cell_type": "code",
   "execution_count": null,
   "id": "45e9e867",
   "metadata": {
    "scrolled": true
   },
   "outputs": [],
   "source": [
    "food_df[\"Facility Type\"] = food_df[\"Facility Type\"].fillna(\"Other\")\n",
    "food_df[\"Risk\"] = food_df[\"Risk\"].fillna(\"Unknown\")\n",
    "food_df[\"City\"] = food_df[\"City\"].fillna(\"Unknown\")\n",
    "food_df[\"State\"] = food_df[\"State\"].fillna(\"Unknown\")\n",
    "food_df[\"Zip\"] = food_df[\"Zip\"].fillna(0)\n",
    "food_df[\"Violations\"] = food_df[\"Violations\"].fillna(\"Unknown\")\n",
    "food_df[\"Latitude\"] = food_df[\"Latitude\"].fillna(0)\n",
    "food_df[\"Longitude\"] = food_df[\"Longitude\"].fillna(0)\n",
    "food_df[\"Location\"] = food_df[\"Location\"].fillna(\"Unknown\")\n",
    "\n",
    "food_df[\"Zip\"] = food_df[\"Zip\"].astype(int)\n",
    "food_df.head()"
   ]
  },
  {
   "cell_type": "code",
   "execution_count": null,
   "id": "aa40bd92",
   "metadata": {
    "scrolled": true
   },
   "outputs": [],
   "source": [
    "food_df[\"City\"].replace(\"CHICAGO\", value = \"Chicago\", inplace = True)\n",
    "food_df[\"City\"].replace(\"Chicago\", value = \"Chicago\" , inplace = True)\n",
    "food_df[\"City\"].replace(\"CCHICAGO\" , value = \"Chicago\" , inplace = True)\n",
    "food_df[\"City\"].replace(\"CHICAGOCHICAGO\" , value = \"Chicago\" , inplace = True)\n",
    "food_df[\"City\"].replace(\"CHICAGOHICAGO\" , value = \"Chicago\" , inplace = True)\n",
    "food_df[\"City\"].replace(\"chicago\" , value = \"Chicago\" , inplace = True)\n",
    "food_df[\"City\"].replace(\"CHICAGOCHICAGO\" , value = \"Chicago\" , inplace = True)\n",
    "food_df[\"City\"].replace(\"CHICAGO.\" , value = \"Chicago\" , inplace = True)\n",
    "                \n",
    "food_df.head()"
   ]
  },
  {
   "cell_type": "code",
   "execution_count": null,
   "id": "6409a2fc",
   "metadata": {},
   "outputs": [],
   "source": [
    "df = food_df[\"City\"].value_counts()\n",
    "df"
   ]
  },
  {
   "cell_type": "code",
   "execution_count": null,
   "id": "22e6efe9",
   "metadata": {},
   "outputs": [],
   "source": [
    "food_df.isnull().sum()"
   ]
  },
  {
   "cell_type": "code",
   "execution_count": null,
   "id": "b9692794",
   "metadata": {},
   "outputs": [],
   "source": [
    "# # select rows containing \"U\"\n",
    "# city= food_df[\"City\"].value_counts()\n",
    "# city_df = pd. DataFrame(city)\n",
    "# city_df.filter(like =\"U\", axis = 0)\n",
    "# city_df\n",
    "# # ??????"
   ]
  },
  {
   "cell_type": "code",
   "execution_count": null,
   "id": "0075240f",
   "metadata": {},
   "outputs": [],
   "source": [
    "food_df[\"Inspection ID\"].value_counts()"
   ]
  },
  {
   "cell_type": "code",
   "execution_count": null,
   "id": "53a22e94",
   "metadata": {},
   "outputs": [],
   "source": [
    "food_df.drop_duplicates(subset=[\"Address\", \"DBA Name\"], inplace = True)"
   ]
  },
  {
   "cell_type": "code",
   "execution_count": null,
   "id": "0fffb893",
   "metadata": {},
   "outputs": [],
   "source": [
    "food_df"
   ]
  },
  {
   "cell_type": "code",
   "execution_count": null,
   "id": "b6d41812",
   "metadata": {},
   "outputs": [],
   "source": [
    "food_df[\"Inspection ID\"].value_counts()"
   ]
  },
  {
   "cell_type": "code",
   "execution_count": null,
   "id": "d71364f2",
   "metadata": {},
   "outputs": [],
   "source": [
    "food_df.to_csv(\"Resources/updated_food_inspection.csv\", index=False)"
   ]
  },
  {
   "cell_type": "code",
   "execution_count": null,
   "id": "7f9f2fd4",
   "metadata": {},
   "outputs": [],
   "source": []
  }
 ],
 "metadata": {
  "kernelspec": {
   "display_name": "Python 3",
   "language": "python",
   "name": "python3"
  },
  "language_info": {
   "codemirror_mode": {
    "name": "ipython",
    "version": 3
   },
   "file_extension": ".py",
   "mimetype": "text/x-python",
   "name": "python",
   "nbconvert_exporter": "python",
   "pygments_lexer": "ipython3",
   "version": "3.8.8"
  }
 },
 "nbformat": 4,
 "nbformat_minor": 5
}
