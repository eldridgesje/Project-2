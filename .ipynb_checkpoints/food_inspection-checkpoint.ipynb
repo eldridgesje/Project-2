{
 "cells": [
  {
   "cell_type": "code",
   "execution_count": 1,
   "id": "02fa3a90",
   "metadata": {},
   "outputs": [],
   "source": [
    "import pandas as pd\n",
    "import datetime"
   ]
  },
  {
   "cell_type": "code",
   "execution_count": 2,
   "id": "47a225e9",
   "metadata": {},
   "outputs": [
    {
     "ename": "FileNotFoundError",
     "evalue": "[Errno 2] No such file or directory: 'Resources/food-inspections.csv'",
     "output_type": "error",
     "traceback": [
      "\u001b[1;31m---------------------------------------------------------------------------\u001b[0m",
      "\u001b[1;31mFileNotFoundError\u001b[0m                         Traceback (most recent call last)",
      "\u001b[1;32m<ipython-input-2-6bf65d99e5d7>\u001b[0m in \u001b[0;36m<module>\u001b[1;34m\u001b[0m\n\u001b[0;32m      1\u001b[0m \u001b[0mfile_to_load\u001b[0m \u001b[1;33m=\u001b[0m \u001b[1;34m\"Resources/food-inspections.csv\"\u001b[0m\u001b[1;33m\u001b[0m\u001b[1;33m\u001b[0m\u001b[0m\n\u001b[1;32m----> 2\u001b[1;33m \u001b[0mfood_data\u001b[0m \u001b[1;33m=\u001b[0m \u001b[0mpd\u001b[0m\u001b[1;33m.\u001b[0m\u001b[0mread_csv\u001b[0m\u001b[1;33m(\u001b[0m\u001b[0mfile_to_load\u001b[0m\u001b[1;33m)\u001b[0m\u001b[1;33m\u001b[0m\u001b[1;33m\u001b[0m\u001b[0m\n\u001b[0m\u001b[0;32m      3\u001b[0m \u001b[0mfood_data\u001b[0m\u001b[1;33m.\u001b[0m\u001b[0mhead\u001b[0m\u001b[1;33m(\u001b[0m\u001b[1;33m)\u001b[0m\u001b[1;33m\u001b[0m\u001b[1;33m\u001b[0m\u001b[0m\n",
      "\u001b[1;32m~\\.conda\\envs\\PythonData38\\lib\\site-packages\\pandas\\io\\parsers.py\u001b[0m in \u001b[0;36mread_csv\u001b[1;34m(filepath_or_buffer, sep, delimiter, header, names, index_col, usecols, squeeze, prefix, mangle_dupe_cols, dtype, engine, converters, true_values, false_values, skipinitialspace, skiprows, skipfooter, nrows, na_values, keep_default_na, na_filter, verbose, skip_blank_lines, parse_dates, infer_datetime_format, keep_date_col, date_parser, dayfirst, cache_dates, iterator, chunksize, compression, thousands, decimal, lineterminator, quotechar, quoting, doublequote, escapechar, comment, encoding, dialect, error_bad_lines, warn_bad_lines, delim_whitespace, low_memory, memory_map, float_precision, storage_options)\u001b[0m\n\u001b[0;32m    608\u001b[0m     \u001b[0mkwds\u001b[0m\u001b[1;33m.\u001b[0m\u001b[0mupdate\u001b[0m\u001b[1;33m(\u001b[0m\u001b[0mkwds_defaults\u001b[0m\u001b[1;33m)\u001b[0m\u001b[1;33m\u001b[0m\u001b[1;33m\u001b[0m\u001b[0m\n\u001b[0;32m    609\u001b[0m \u001b[1;33m\u001b[0m\u001b[0m\n\u001b[1;32m--> 610\u001b[1;33m     \u001b[1;32mreturn\u001b[0m \u001b[0m_read\u001b[0m\u001b[1;33m(\u001b[0m\u001b[0mfilepath_or_buffer\u001b[0m\u001b[1;33m,\u001b[0m \u001b[0mkwds\u001b[0m\u001b[1;33m)\u001b[0m\u001b[1;33m\u001b[0m\u001b[1;33m\u001b[0m\u001b[0m\n\u001b[0m\u001b[0;32m    611\u001b[0m \u001b[1;33m\u001b[0m\u001b[0m\n\u001b[0;32m    612\u001b[0m \u001b[1;33m\u001b[0m\u001b[0m\n",
      "\u001b[1;32m~\\.conda\\envs\\PythonData38\\lib\\site-packages\\pandas\\io\\parsers.py\u001b[0m in \u001b[0;36m_read\u001b[1;34m(filepath_or_buffer, kwds)\u001b[0m\n\u001b[0;32m    460\u001b[0m \u001b[1;33m\u001b[0m\u001b[0m\n\u001b[0;32m    461\u001b[0m     \u001b[1;31m# Create the parser.\u001b[0m\u001b[1;33m\u001b[0m\u001b[1;33m\u001b[0m\u001b[1;33m\u001b[0m\u001b[0m\n\u001b[1;32m--> 462\u001b[1;33m     \u001b[0mparser\u001b[0m \u001b[1;33m=\u001b[0m \u001b[0mTextFileReader\u001b[0m\u001b[1;33m(\u001b[0m\u001b[0mfilepath_or_buffer\u001b[0m\u001b[1;33m,\u001b[0m \u001b[1;33m**\u001b[0m\u001b[0mkwds\u001b[0m\u001b[1;33m)\u001b[0m\u001b[1;33m\u001b[0m\u001b[1;33m\u001b[0m\u001b[0m\n\u001b[0m\u001b[0;32m    463\u001b[0m \u001b[1;33m\u001b[0m\u001b[0m\n\u001b[0;32m    464\u001b[0m     \u001b[1;32mif\u001b[0m \u001b[0mchunksize\u001b[0m \u001b[1;32mor\u001b[0m \u001b[0miterator\u001b[0m\u001b[1;33m:\u001b[0m\u001b[1;33m\u001b[0m\u001b[1;33m\u001b[0m\u001b[0m\n",
      "\u001b[1;32m~\\.conda\\envs\\PythonData38\\lib\\site-packages\\pandas\\io\\parsers.py\u001b[0m in \u001b[0;36m__init__\u001b[1;34m(self, f, engine, **kwds)\u001b[0m\n\u001b[0;32m    817\u001b[0m             \u001b[0mself\u001b[0m\u001b[1;33m.\u001b[0m\u001b[0moptions\u001b[0m\u001b[1;33m[\u001b[0m\u001b[1;34m\"has_index_names\"\u001b[0m\u001b[1;33m]\u001b[0m \u001b[1;33m=\u001b[0m \u001b[0mkwds\u001b[0m\u001b[1;33m[\u001b[0m\u001b[1;34m\"has_index_names\"\u001b[0m\u001b[1;33m]\u001b[0m\u001b[1;33m\u001b[0m\u001b[1;33m\u001b[0m\u001b[0m\n\u001b[0;32m    818\u001b[0m \u001b[1;33m\u001b[0m\u001b[0m\n\u001b[1;32m--> 819\u001b[1;33m         \u001b[0mself\u001b[0m\u001b[1;33m.\u001b[0m\u001b[0m_engine\u001b[0m \u001b[1;33m=\u001b[0m \u001b[0mself\u001b[0m\u001b[1;33m.\u001b[0m\u001b[0m_make_engine\u001b[0m\u001b[1;33m(\u001b[0m\u001b[0mself\u001b[0m\u001b[1;33m.\u001b[0m\u001b[0mengine\u001b[0m\u001b[1;33m)\u001b[0m\u001b[1;33m\u001b[0m\u001b[1;33m\u001b[0m\u001b[0m\n\u001b[0m\u001b[0;32m    820\u001b[0m \u001b[1;33m\u001b[0m\u001b[0m\n\u001b[0;32m    821\u001b[0m     \u001b[1;32mdef\u001b[0m \u001b[0mclose\u001b[0m\u001b[1;33m(\u001b[0m\u001b[0mself\u001b[0m\u001b[1;33m)\u001b[0m\u001b[1;33m:\u001b[0m\u001b[1;33m\u001b[0m\u001b[1;33m\u001b[0m\u001b[0m\n",
      "\u001b[1;32m~\\.conda\\envs\\PythonData38\\lib\\site-packages\\pandas\\io\\parsers.py\u001b[0m in \u001b[0;36m_make_engine\u001b[1;34m(self, engine)\u001b[0m\n\u001b[0;32m   1048\u001b[0m             )\n\u001b[0;32m   1049\u001b[0m         \u001b[1;31m# error: Too many arguments for \"ParserBase\"\u001b[0m\u001b[1;33m\u001b[0m\u001b[1;33m\u001b[0m\u001b[1;33m\u001b[0m\u001b[0m\n\u001b[1;32m-> 1050\u001b[1;33m         \u001b[1;32mreturn\u001b[0m \u001b[0mmapping\u001b[0m\u001b[1;33m[\u001b[0m\u001b[0mengine\u001b[0m\u001b[1;33m]\u001b[0m\u001b[1;33m(\u001b[0m\u001b[0mself\u001b[0m\u001b[1;33m.\u001b[0m\u001b[0mf\u001b[0m\u001b[1;33m,\u001b[0m \u001b[1;33m**\u001b[0m\u001b[0mself\u001b[0m\u001b[1;33m.\u001b[0m\u001b[0moptions\u001b[0m\u001b[1;33m)\u001b[0m  \u001b[1;31m# type: ignore[call-arg]\u001b[0m\u001b[1;33m\u001b[0m\u001b[1;33m\u001b[0m\u001b[0m\n\u001b[0m\u001b[0;32m   1051\u001b[0m \u001b[1;33m\u001b[0m\u001b[0m\n\u001b[0;32m   1052\u001b[0m     \u001b[1;32mdef\u001b[0m \u001b[0m_failover_to_python\u001b[0m\u001b[1;33m(\u001b[0m\u001b[0mself\u001b[0m\u001b[1;33m)\u001b[0m\u001b[1;33m:\u001b[0m\u001b[1;33m\u001b[0m\u001b[1;33m\u001b[0m\u001b[0m\n",
      "\u001b[1;32m~\\.conda\\envs\\PythonData38\\lib\\site-packages\\pandas\\io\\parsers.py\u001b[0m in \u001b[0;36m__init__\u001b[1;34m(self, src, **kwds)\u001b[0m\n\u001b[0;32m   1865\u001b[0m \u001b[1;33m\u001b[0m\u001b[0m\n\u001b[0;32m   1866\u001b[0m         \u001b[1;31m# open handles\u001b[0m\u001b[1;33m\u001b[0m\u001b[1;33m\u001b[0m\u001b[1;33m\u001b[0m\u001b[0m\n\u001b[1;32m-> 1867\u001b[1;33m         \u001b[0mself\u001b[0m\u001b[1;33m.\u001b[0m\u001b[0m_open_handles\u001b[0m\u001b[1;33m(\u001b[0m\u001b[0msrc\u001b[0m\u001b[1;33m,\u001b[0m \u001b[0mkwds\u001b[0m\u001b[1;33m)\u001b[0m\u001b[1;33m\u001b[0m\u001b[1;33m\u001b[0m\u001b[0m\n\u001b[0m\u001b[0;32m   1868\u001b[0m         \u001b[1;32massert\u001b[0m \u001b[0mself\u001b[0m\u001b[1;33m.\u001b[0m\u001b[0mhandles\u001b[0m \u001b[1;32mis\u001b[0m \u001b[1;32mnot\u001b[0m \u001b[1;32mNone\u001b[0m\u001b[1;33m\u001b[0m\u001b[1;33m\u001b[0m\u001b[0m\n\u001b[0;32m   1869\u001b[0m         \u001b[1;32mfor\u001b[0m \u001b[0mkey\u001b[0m \u001b[1;32min\u001b[0m \u001b[1;33m(\u001b[0m\u001b[1;34m\"storage_options\"\u001b[0m\u001b[1;33m,\u001b[0m \u001b[1;34m\"encoding\"\u001b[0m\u001b[1;33m,\u001b[0m \u001b[1;34m\"memory_map\"\u001b[0m\u001b[1;33m,\u001b[0m \u001b[1;34m\"compression\"\u001b[0m\u001b[1;33m)\u001b[0m\u001b[1;33m:\u001b[0m\u001b[1;33m\u001b[0m\u001b[1;33m\u001b[0m\u001b[0m\n",
      "\u001b[1;32m~\\.conda\\envs\\PythonData38\\lib\\site-packages\\pandas\\io\\parsers.py\u001b[0m in \u001b[0;36m_open_handles\u001b[1;34m(self, src, kwds)\u001b[0m\n\u001b[0;32m   1360\u001b[0m         \u001b[0mLet\u001b[0m \u001b[0mthe\u001b[0m \u001b[0mreaders\u001b[0m \u001b[0mopen\u001b[0m \u001b[0mIOHanldes\u001b[0m \u001b[0mafter\u001b[0m \u001b[0mthey\u001b[0m \u001b[0mare\u001b[0m \u001b[0mdone\u001b[0m \u001b[1;32mwith\u001b[0m \u001b[0mtheir\u001b[0m \u001b[0mpotential\u001b[0m \u001b[0mraises\u001b[0m\u001b[1;33m.\u001b[0m\u001b[1;33m\u001b[0m\u001b[1;33m\u001b[0m\u001b[0m\n\u001b[0;32m   1361\u001b[0m         \"\"\"\n\u001b[1;32m-> 1362\u001b[1;33m         self.handles = get_handle(\n\u001b[0m\u001b[0;32m   1363\u001b[0m             \u001b[0msrc\u001b[0m\u001b[1;33m,\u001b[0m\u001b[1;33m\u001b[0m\u001b[1;33m\u001b[0m\u001b[0m\n\u001b[0;32m   1364\u001b[0m             \u001b[1;34m\"r\"\u001b[0m\u001b[1;33m,\u001b[0m\u001b[1;33m\u001b[0m\u001b[1;33m\u001b[0m\u001b[0m\n",
      "\u001b[1;32m~\\.conda\\envs\\PythonData38\\lib\\site-packages\\pandas\\io\\common.py\u001b[0m in \u001b[0;36mget_handle\u001b[1;34m(path_or_buf, mode, encoding, compression, memory_map, is_text, errors, storage_options)\u001b[0m\n\u001b[0;32m    640\u001b[0m                 \u001b[0merrors\u001b[0m \u001b[1;33m=\u001b[0m \u001b[1;34m\"replace\"\u001b[0m\u001b[1;33m\u001b[0m\u001b[1;33m\u001b[0m\u001b[0m\n\u001b[0;32m    641\u001b[0m             \u001b[1;31m# Encoding\u001b[0m\u001b[1;33m\u001b[0m\u001b[1;33m\u001b[0m\u001b[1;33m\u001b[0m\u001b[0m\n\u001b[1;32m--> 642\u001b[1;33m             handle = open(\n\u001b[0m\u001b[0;32m    643\u001b[0m                 \u001b[0mhandle\u001b[0m\u001b[1;33m,\u001b[0m\u001b[1;33m\u001b[0m\u001b[1;33m\u001b[0m\u001b[0m\n\u001b[0;32m    644\u001b[0m                 \u001b[0mioargs\u001b[0m\u001b[1;33m.\u001b[0m\u001b[0mmode\u001b[0m\u001b[1;33m,\u001b[0m\u001b[1;33m\u001b[0m\u001b[1;33m\u001b[0m\u001b[0m\n",
      "\u001b[1;31mFileNotFoundError\u001b[0m: [Errno 2] No such file or directory: 'Resources/food-inspections.csv'"
     ]
    }
   ],
   "source": [
    "file_to_load = \"Resources/food-inspections.csv\"\n",
    "food_data = pd.read_csv(file_to_load)\n",
    "food_data.head()"
   ]
  },
  {
   "cell_type": "code",
   "execution_count": null,
   "id": "8b811bad",
   "metadata": {},
   "outputs": [],
   "source": [
    "food_data.shape"
   ]
  },
  {
   "cell_type": "code",
   "execution_count": null,
   "id": "ce9afcb3",
   "metadata": {},
   "outputs": [],
   "source": [
    "food_data.columns"
   ]
  },
  {
   "cell_type": "code",
   "execution_count": null,
   "id": "0ac9ebb0",
   "metadata": {},
   "outputs": [],
   "source": [
    "food_data.isnull().sum()"
   ]
  },
  {
   "cell_type": "code",
   "execution_count": null,
   "id": "6e3f081e",
   "metadata": {},
   "outputs": [],
   "source": [
    "# Deleting empty,unrelated columns on the data we re gonna work\n",
    "food_data = food_data.drop(columns = [\"AKA Name\", \"License #\", \n",
    "                                      \"Historical Wards 2003-2015\", \"Zip Codes\", \n",
    "                                      \"Community Areas\", \"Census Tracts\", \"Wards\"])"
   ]
  },
  {
   "cell_type": "code",
   "execution_count": null,
   "id": "c9a14aab",
   "metadata": {},
   "outputs": [],
   "source": [
    "food_data[\"Inspection Date\"][0]"
   ]
  },
  {
   "cell_type": "code",
   "execution_count": null,
   "id": "daf4a6c2",
   "metadata": {},
   "outputs": [],
   "source": [
    "food_data[\"Inspection Date\"] = pd.to_datetime(food_data[\"Inspection Date\"])"
   ]
  },
  {
   "cell_type": "code",
   "execution_count": null,
   "id": "49a61eb4",
   "metadata": {},
   "outputs": [],
   "source": [
    "last_date = food_data[\"Inspection Date\"][0]\n",
    "last_date"
   ]
  },
  {
   "cell_type": "code",
   "execution_count": null,
   "id": "70419dba",
   "metadata": {
    "scrolled": true
   },
   "outputs": [],
   "source": [
    "recent_ins = food_data.sort_values(by = \"Inspection Date\", ascending = False)\n",
    "recent_ins.head()"
   ]
  },
  {
   "cell_type": "code",
   "execution_count": null,
   "id": "16150038",
   "metadata": {},
   "outputs": [],
   "source": [
    "# end_date= pd.date_range(\"2019-01-04\", periods=12, freq=\"M\")\n",
    "# end_date"
   ]
  },
  {
   "cell_type": "code",
   "execution_count": null,
   "id": "9b31c4f2",
   "metadata": {},
   "outputs": [],
   "source": [
    "end_date = datetime.date(2019, 12, 4)\n",
    "days = datetime.timedelta(days = 365, hours = 6)\n",
    "\n",
    "start_date = end_date - days\n",
    "start_date"
   ]
  },
  {
   "cell_type": "code",
   "execution_count": null,
   "id": "bdf79981",
   "metadata": {},
   "outputs": [],
   "source": [
    "start_date = \"2018-12-04\"\n",
    "end_date = \"2019-12-04\"\n",
    "food_df = food_data.loc[(food_data[\"Inspection Date\"] >= start_date) & (food_data[\"Inspection Date\"] <= end_date)]\n",
    "food_df.head()"
   ]
  },
  {
   "cell_type": "code",
   "execution_count": null,
   "id": "8a419deb",
   "metadata": {},
   "outputs": [],
   "source": [
    "food_df.shape"
   ]
  },
  {
   "cell_type": "code",
   "execution_count": null,
   "id": "ff4f338d",
   "metadata": {},
   "outputs": [],
   "source": [
    "food_df.isnull().sum()"
   ]
  },
  {
   "cell_type": "code",
   "execution_count": null,
   "id": "3c5e1e8e",
   "metadata": {},
   "outputs": [],
   "source": [
    "food_df.dtypes"
   ]
  },
  {
   "cell_type": "code",
   "execution_count": null,
   "id": "45e9e867",
   "metadata": {
    "scrolled": true
   },
   "outputs": [],
   "source": [
    "food_df[\"Facility Type\"] = food_df[\"Facility Type\"].fillna(\"Other\")\n",
    "food_df[\"Risk\"] = food_df[\"Risk\"].fillna(\"Unknown\")\n",
    "food_df[\"City\"] = food_df[\"City\"].fillna(\"Unknown\")\n",
    "food_df[\"State\"] = food_df[\"State\"].fillna(\"Unknown\")\n",
    "food_df[\"Zip\"] = food_df[\"Zip\"].fillna(0)\n",
    "food_df[\"Violations\"] = food_df[\"Violations\"].fillna(\"Unknown\")\n",
    "food_df[\"Latitude\"] = food_df[\"Latitude\"].fillna(0)\n",
    "food_df[\"Longitude\"] = food_df[\"Longitude\"].fillna(0)\n",
    "food_df[\"Location\"] = food_df[\"Location\"].fillna(\"Unknown\")\n",
    "\n",
    "food_df[\"Zip\"] = food_df[\"Zip\"].astype(int)\n",
    "food_df.head()"
   ]
  },
  {
   "cell_type": "code",
   "execution_count": null,
   "id": "aa40bd92",
   "metadata": {
    "scrolled": true
   },
   "outputs": [],
   "source": [
    "food_df[\"City\"].replace(\"CHICAGO\", value = \"Chicago\", inplace = True)\n",
    "food_df[\"City\"].replace(\"Chicago\", value = \"Chicago\" , inplace = True)\n",
    "food_df[\"City\"].replace(\"CCHICAGO\" , value = \"Chicago\" , inplace = True)\n",
    "food_df[\"City\"].replace(\"CHICAGOCHICAGO\" , value = \"Chicago\" , inplace = True)\n",
    "food_df[\"City\"].replace(\"CHICAGOHICAGO\" , value = \"Chicago\" , inplace = True)\n",
    "food_df[\"City\"].replace(\"chicago\" , value = \"Chicago\" , inplace = True)\n",
    "food_df[\"City\"].replace(\"CHICAGOCHICAGO\" , value = \"Chicago\" , inplace = True)\n",
    "food_df[\"City\"].replace(\"CHICAGO.\" , value = \"Chicago\" , inplace = True)\n",
    "                \n",
    "food_df.head()"
   ]
  },
  {
   "cell_type": "code",
   "execution_count": null,
   "id": "6409a2fc",
   "metadata": {},
   "outputs": [],
   "source": [
    "df = food_df[\"City\"].value_counts()\n",
    "df"
   ]
  },
  {
   "cell_type": "code",
   "execution_count": null,
   "id": "22e6efe9",
   "metadata": {},
   "outputs": [],
   "source": [
    "food_df.isnull().sum()"
   ]
  },
  {
   "cell_type": "code",
   "execution_count": null,
   "id": "b9692794",
   "metadata": {},
   "outputs": [],
   "source": [
    "# # select rows containing \"U\"\n",
    "# city= food_df[\"City\"].value_counts()\n",
    "# city_df = pd. DataFrame(city)\n",
    "# city_df.filter(like =\"U\", axis = 0)\n",
    "# city_df\n",
    "# # ??????"
   ]
  },
  {
   "cell_type": "code",
   "execution_count": null,
   "id": "0075240f",
   "metadata": {},
   "outputs": [],
   "source": [
    "food_df[\"Inspection ID\"].value_counts()"
   ]
  },
  {
   "cell_type": "code",
   "execution_count": null,
   "id": "9aeaaad6",
   "metadata": {},
   "outputs": [],
   "source": [
    "food_df.drop_duplicates(\"Inspection ID\", inplace = True)"
   ]
  },
  {
   "cell_type": "code",
   "execution_count": null,
   "id": "b6d41812",
   "metadata": {},
   "outputs": [],
   "source": [
    "food_df.shape"
   ]
  },
  {
   "cell_type": "code",
   "execution_count": null,
   "id": "d71364f2",
   "metadata": {},
   "outputs": [],
   "source": [
    "food_df.to_csv(\"Resources/updated_food_inspection.csv\", index=false)"
   ]
  },
  {
   "cell_type": "code",
   "execution_count": null,
   "id": "7f9f2fd4",
   "metadata": {},
   "outputs": [],
   "source": []
  }
 ],
 "metadata": {
  "kernelspec": {
   "display_name": "Python 3",
   "language": "python",
   "name": "python3"
  },
  "language_info": {
   "codemirror_mode": {
    "name": "ipython",
    "version": 3
   },
   "file_extension": ".py",
   "mimetype": "text/x-python",
   "name": "python",
   "nbconvert_exporter": "python",
   "pygments_lexer": "ipython3",
   "version": "3.8.8"
  }
 },
 "nbformat": 4,
 "nbformat_minor": 5
}
